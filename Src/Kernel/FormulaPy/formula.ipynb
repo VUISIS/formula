{
 "cells": [
  {
   "cell_type": "code",
   "execution_count": null,
   "id": "f1ef8032-ecf3-46f0-9af2-564c8e047e29",
   "metadata": {},
   "outputs": [],
   "source": [
    "%load_ext formula"
   ]
  },
  {
   "cell_type": "code",
   "execution_count": null,
   "id": "6b368acc-9353-45e3-8e52-7fe54c5b087f",
   "metadata": {},
   "outputs": [],
   "source": [
    "%load /home/stephen/git/formula/Tst/Tests/Symbolic/MappingExample.4ml"
   ]
  },
  {
   "cell_type": "code",
   "execution_count": null,
   "id": "cbb40c73-5c52-42fa-9786-a07d501786d3",
   "metadata": {},
   "outputs": [],
   "source": [
    "%solve pm 1 Mapping.conforms"
   ]
  },
  {
   "cell_type": "code",
   "execution_count": null,
   "id": "aaecf243-7534-4355-908e-375fd02db84f",
   "metadata": {},
   "outputs": [],
   "source": [
    "%explain"
   ]
  },
  {
   "cell_type": "code",
   "execution_count": null,
   "id": "7a72c0a0-e898-4f08-9737-147725f20987",
   "metadata": {},
   "outputs": [],
   "source": []
  }
 ],
 "metadata": {
  "kernelspec": {
   "display_name": "Python 3 (ipykernel)",
   "language": "python",
   "name": "python3"
  },
  "language_info": {
   "codemirror_mode": {
    "name": "ipython",
    "version": 3
   },
   "file_extension": ".py",
   "mimetype": "text/x-python",
   "name": "python",
   "nbconvert_exporter": "python",
   "pygments_lexer": "ipython3",
   "version": "3.10.12"
  }
 },
 "nbformat": 4,
 "nbformat_minor": 5
}
